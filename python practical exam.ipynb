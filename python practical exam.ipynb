{
 "cells": [
  {
   "cell_type": "markdown",
   "metadata": {},
   "source": [
    "# Write a program calculate  check the number is prime or not take input from user?"
   ]
  },
  {
   "cell_type": "code",
   "execution_count": 6,
   "metadata": {},
   "outputs": [],
   "source": [
    "def isPrime(num):\n",
    "    \n",
    "    if num <= 1: return False\n",
    "    \n",
    "    for i in range(2, num):\n",
    "        if (num % i == 0): return False\n",
    "    \n",
    "    return True\n"
   ]
  },
  {
   "cell_type": "code",
   "execution_count": 7,
   "metadata": {},
   "outputs": [
    {
     "name": "stdout",
     "output_type": "stream",
     "text": [
      "Enter Number : 7\n",
      "2\n",
      "3\n",
      "4\n",
      "5\n",
      "6\n",
      "7 is Prime\n"
     ]
    }
   ],
   "source": [
    "num = int(input(\"Enter Number : \"))\n",
    "print(num, \"is Prime\" if isPrime(num) else \"is not Prime\")        "
   ]
  },
  {
   "cell_type": "markdown",
   "metadata": {},
   "source": [
    "# Write a program calculate  factorial number take the input from user?"
   ]
  },
  {
   "cell_type": "code",
   "execution_count": 14,
   "metadata": {},
   "outputs": [],
   "source": [
    "def factorial(num):\n",
    "    \n",
    "    return 1 if(num == 0 or num == 1) else num * factorial(num - 1)"
   ]
  },
  {
   "cell_type": "code",
   "execution_count": 28,
   "metadata": {},
   "outputs": [
    {
     "name": "stdout",
     "output_type": "stream",
     "text": [
      "Enter Number : 6\n",
      "Factorial Of 6 is 720\n"
     ]
    }
   ],
   "source": [
    "num = int(input(\"Enter Number : \"))\n",
    "\n",
    "print(\"Factorial Of {0} is {1}\".format(num, factorial(num)))"
   ]
  },
  {
   "cell_type": "markdown",
   "metadata": {},
   "source": [
    "# Write a program calculate maximum values in three number , the three number enter by user? "
   ]
  },
  {
   "cell_type": "code",
   "execution_count": 45,
   "metadata": {},
   "outputs": [
    {
     "name": "stdout",
     "output_type": "stream",
     "text": [
      "Enter Three numbers sperated with space: 12 1 0\n",
      "Max values in three Number 12\n"
     ]
    }
   ],
   "source": [
    "numbers = input(\"Enter Three numbers separated with space: \")\n",
    "numbers = numbers.split()\n",
    "numbers = [int(num) for num in numbers]\n",
    "\n",
    "print(\"Max values in three Number\", max(numbers))"
   ]
  },
  {
   "cell_type": "markdown",
   "metadata": {},
   "source": [
    "# Write  a program to display all the prime numbers within an interval (1,100)"
   ]
  },
  {
   "cell_type": "code",
   "execution_count": 46,
   "metadata": {},
   "outputs": [
    {
     "name": "stdout",
     "output_type": "stream",
     "text": [
      "2 is Prime\n",
      "3 is Prime\n",
      "5 is Prime\n",
      "7 is Prime\n",
      "11 is Prime\n",
      "13 is Prime\n",
      "17 is Prime\n",
      "19 is Prime\n",
      "23 is Prime\n",
      "29 is Prime\n",
      "31 is Prime\n",
      "37 is Prime\n",
      "41 is Prime\n",
      "43 is Prime\n",
      "47 is Prime\n",
      "53 is Prime\n",
      "59 is Prime\n",
      "61 is Prime\n",
      "67 is Prime\n",
      "71 is Prime\n",
      "73 is Prime\n",
      "79 is Prime\n",
      "83 is Prime\n",
      "89 is Prime\n",
      "97 is Prime\n"
     ]
    }
   ],
   "source": [
    "for i in range(1, 100):\n",
    "    if isPrime(i) : \n",
    "        print(i, \"is Prime\")"
   ]
  },
  {
   "cell_type": "markdown",
   "metadata": {},
   "source": [
    "# Write  a program to find highest common factor “HCF” of two number\n",
    "# Write  a program to find highest common factor  greatest common factor “GCD” of two number."
   ]
  },
  {
   "cell_type": "code",
   "execution_count": 47,
   "metadata": {},
   "outputs": [],
   "source": [
    "def gcd(a,b): \n",
    "    \"\"\"This function calculate the greatest common divisor GCD == HCD \"\"\"\n",
    "    if b == 0 : \n",
    "        return a\n",
    "    else : \n",
    "        return gcd(b, a % b)"
   ]
  },
  {
   "cell_type": "code",
   "execution_count": 50,
   "metadata": {},
   "outputs": [
    {
     "name": "stdout",
     "output_type": "stream",
     "text": [
      "Enter Number: 16\n",
      "Enter Number: 48\n",
      "GCD & HCF of 16 and 48 = 16\n"
     ]
    }
   ],
   "source": [
    "a = int(input(\"Enter Number: \"))\n",
    "b = int(input(\"Enter Number: \"))\n",
    "print(\"GCD & HCF of {0} and {1} = {2}\".format(a, b, gcd(a, b)))"
   ]
  },
  {
   "cell_type": "markdown",
   "metadata": {},
   "source": [
    "# Write a program traverse the given list N times. In every traversal, find the maximum, add it to result, and remove it from the list"
   ]
  },
  {
   "cell_type": "code",
   "execution_count": 59,
   "metadata": {},
   "outputs": [
    {
     "name": "stdout",
     "output_type": "stream",
     "text": [
      "Enter a punch of numbers separated with space: 1 5 7 100 2 6 7 5 3 9 7 4 5 66\n",
      "Enter number less than or equal to lenght of list: 3\n",
      "[1, 5, 7, 100, 2, 6, 7, 5, 3, 9, 7, 4, 5, 66]\n",
      "[100, 66, 9]\n"
     ]
    }
   ],
   "source": [
    "List = input(\"Enter a punch of numbers separated with space: \")\n",
    "List = List.split()\n",
    "List = [int(x) for x in List]\n",
    "\n",
    "N = 0\n",
    "while True:\n",
    "    N = int(input(\"Enter number less than or equal to lenght of list: \"))\n",
    "    if N <= len(List): break\n",
    "        \n",
    "print(List)\n",
    "\n",
    "newList = []\n",
    "for i in range(N):\n",
    "    newList.append(max(List))\n",
    "    List.remove(max(List))\n",
    "    \n",
    "print(newList)"
   ]
  },
  {
   "cell_type": "markdown",
   "metadata": {},
   "source": [
    "# Write a program to get the Cumulative sum of a list "
   ]
  },
  {
   "cell_type": "code",
   "execution_count": 64,
   "metadata": {},
   "outputs": [],
   "source": [
    "def CumuSum(l):\n",
    "    sum = 0\n",
    "    resList = []\n",
    "    for ele in l:\n",
    "        sum = sum + ele\n",
    "        resList.append(sum)\n",
    "        \n",
    "    return resList"
   ]
  },
  {
   "cell_type": "code",
   "execution_count": 65,
   "metadata": {},
   "outputs": [
    {
     "name": "stdout",
     "output_type": "stream",
     "text": [
      "Enter a punch of numbers separated with space: 10 20 30 40 50\n",
      "[10, 30, 60, 100, 150]\n"
     ]
    }
   ],
   "source": [
    "List = input(\"Enter a punch of numbers separated with space: \")\n",
    "List = List.split()\n",
    "List = [int(x) for x in List]\n",
    "print(CumuSum(List))"
   ]
  },
  {
   "cell_type": "markdown",
   "metadata": {},
   "source": [
    "# Write program to find sum of elements in list"
   ]
  },
  {
   "cell_type": "code",
   "execution_count": 66,
   "metadata": {},
   "outputs": [],
   "source": [
    "def Sum(l):\n",
    "    sum = 0\n",
    "    for ele in l:\n",
    "        sum += ele\n",
    "    \n",
    "    return sum"
   ]
  },
  {
   "cell_type": "code",
   "execution_count": 69,
   "metadata": {},
   "outputs": [
    {
     "name": "stdout",
     "output_type": "stream",
     "text": [
      "Enter a punch of numbers separated with space: 10 20 30 40\n",
      "Sum =  100\n"
     ]
    }
   ],
   "source": [
    "List = input(\"Enter a punch of numbers separated with space: \")\n",
    "List = List.split()\n",
    "List = [int(x) for x in List]\n",
    "print(\"Sum = \", Sum(List))"
   ]
  },
  {
   "cell_type": "markdown",
   "metadata": {},
   "source": [
    "# Write Swap tuple elements in list of tuples\n"
   ]
  },
  {
   "cell_type": "code",
   "execution_count": 114,
   "metadata": {},
   "outputs": [
    {
     "name": "stdout",
     "output_type": "stream",
     "text": [
      "The input list =  [(3, 4), (5, 6), (7, 8)]\n",
      "The swaped list =  [(4, 3), (6, 5), (8, 7)]\n"
     ]
    }
   ],
   "source": [
    "Input = [(3,4),(5,6),(7,8)]\n",
    "print(\"The input list = \", Input)\n",
    "\n",
    "\n",
    "res = [(ele[1], ele[0]) for ele in Input]\n",
    "print(\"The swaped list = \", res)"
   ]
  },
  {
   "cell_type": "markdown",
   "metadata": {},
   "source": [
    "# Implementation to the same program if we take input from user"
   ]
  },
  {
   "cell_type": "code",
   "execution_count": 116,
   "metadata": {},
   "outputs": [
    {
     "name": "stdout",
     "output_type": "stream",
     "text": [
      "Type 'end' to exit input\n",
      "enter a pair of numbers separate with ,: 3, 4\n",
      "enter a pair of numbers separate with ,: 5,6\n",
      "enter a pair of numbers separate with ,: 7, 8\n",
      "enter a pair of numbers separate with ,: end\n",
      "The input list =  [(3, 4), (5, 6), (7, 8)]\n",
      "The swaped list =  [(4, 3), (6, 5), (8, 7)]\n"
     ]
    }
   ],
   "source": [
    "print(\"Type 'end' to exit input\")\n",
    "listOfTuples = []\n",
    "\n",
    "while True:\n",
    "    \n",
    "    IN = input(\"enter a pair of numbers separate with ,: \").split(',')\n",
    "    \n",
    "    if IN[0] == 'end' : \n",
    "        break\n",
    "    \n",
    "    pair = tuple([eval(x) for x in IN])\n",
    "    listOfTuples.append(pair)\n",
    "\n",
    "print(\"The input list = \", listOfTuples)\n",
    "\n",
    "res = [(ele[1], ele[0]) for ele in listOfTuples]\n",
    "\n",
    "print(\"The swaped list = \", res)"
   ]
  },
  {
   "cell_type": "code",
   "execution_count": null,
   "metadata": {},
   "outputs": [],
   "source": []
  }
 ],
 "metadata": {
  "kernelspec": {
   "display_name": "Python 3",
   "language": "python",
   "name": "python3"
  },
  "language_info": {
   "codemirror_mode": {
    "name": "ipython",
    "version": 3
   },
   "file_extension": ".py",
   "mimetype": "text/x-python",
   "name": "python",
   "nbconvert_exporter": "python",
   "pygments_lexer": "ipython3",
   "version": "3.7.3"
  }
 },
 "nbformat": 4,
 "nbformat_minor": 2
}
